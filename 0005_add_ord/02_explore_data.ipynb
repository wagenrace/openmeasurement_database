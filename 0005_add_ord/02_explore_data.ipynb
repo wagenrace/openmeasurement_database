{
 "cells": [
  {
   "cell_type": "markdown",
   "metadata": {},
   "source": [
    "# Find shortest reaction\n",
    "In order to explore the data better we find the shortest reaction. The hope it that this reaction is simple to understand and will help us understand the dataset better."
   ]
  },
  {
   "cell_type": "code",
   "execution_count": null,
   "metadata": {},
   "outputs": [],
   "source": [
    "# import requirements\n",
    "import json\n",
    "\n",
    "from ord_schema.message_helpers import load_message\n",
    "from ord_schema.proto import dataset_pb2\n",
    "from google.protobuf.json_format import MessageToJson\n",
    "from tqdm import tqdm\n",
    "\n",
    "from pathlib import Path\n",
    "\n",
    "data_path = Path(\"ord-data\") / \"data\"\n",
    "temp_folder = Path(\"temp\")\n",
    "temp_folder.mkdir(exist_ok=True)\n",
    "\n",
    "# This will add 2,274,399 reactions\n",
    "count = 0\n",
    "len_reaction = 1e10\n",
    "shortest_reaction = None\n",
    "all_gz_paths = [i for i in data_path.glob(\"*/*.pb.gz\")]\n",
    "for gz_path in tqdm(all_gz_paths):\n",
    "    json_name = gz_path.name.replace(\".pb.gz\", \".json\")\n",
    "    dataset = load_message(\n",
    "        str(gz_path),\n",
    "        dataset_pb2.Dataset,\n",
    "    )\n",
    "\n",
    "    # take one reaction message from the dataset for example\n",
    "    for reaction in dataset.reactions:\n",
    "        rxn_json = json.loads(\n",
    "            MessageToJson(\n",
    "                message=reaction,\n",
    "                including_default_value_fields=False,\n",
    "                preserving_proto_field_name=True,\n",
    "                indent=2,\n",
    "                sort_keys=False,\n",
    "                use_integers_for_enums=False,\n",
    "                descriptor_pool=None,\n",
    "                float_precision=None,\n",
    "                ensure_ascii=True,\n",
    "            )\n",
    "        )\n",
    "        if not rxn_json.get(\"identifiers\", False):\n",
    "            continue\n",
    "        if not rxn_json[\"identifiers\"][0].get(\"is_mapped\", False):\n",
    "            continue\n",
    "        if len(rxn_json[\"identifiers\"][0][\"value\"]) < len_reaction:\n",
    "            shortest_reaction = rxn_json\n",
    "            len_reaction = len(rxn_json[\"identifiers\"][0][\"value\"])\n",
    "            print(f\"new shortest reaction: {len_reaction}\")\n",
    "            if len_reaction < 20:\n",
    "                # Short enough. I don't have forever\n",
    "                break\n",
    "    if len_reaction < 20:\n",
    "        # Short enough. I don't have forever\n",
    "        break"
   ]
  },
  {
   "cell_type": "code",
   "execution_count": null,
   "metadata": {},
   "outputs": [],
   "source": [
    "with open(temp_folder / \"short_reaction.json\", \"w\") as fp:\n",
    "    json.dump(shortest_reaction, fp, indent=4)"
   ]
  },
  {
   "cell_type": "code",
   "execution_count": null,
   "metadata": {},
   "outputs": [],
   "source": [
    "print(json.dumps(shortest_reaction, indent=4))"
   ]
  }
 ],
 "metadata": {
  "kernelspec": {
   "display_name": "scrapper",
   "language": "python",
   "name": "python3"
  },
  "language_info": {
   "codemirror_mode": {
    "name": "ipython",
    "version": 3
   },
   "file_extension": ".py",
   "mimetype": "text/x-python",
   "name": "python",
   "nbconvert_exporter": "python",
   "pygments_lexer": "ipython3",
   "version": "3.11.4"
  }
 },
 "nbformat": 4,
 "nbformat_minor": 2
}
