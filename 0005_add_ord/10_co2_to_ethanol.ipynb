{
 "cells": [
  {
   "cell_type": "code",
   "execution_count": 2,
   "metadata": {},
   "outputs": [],
   "source": [
    "import json\n",
    "import os\n",
    "from pathlib import Path\n",
    "from py2neo import Graph\n",
    "\n",
    "with open(\"config.json\") as f:\n",
    "    config = json.load(f)\n",
    "\n",
    "temp_dir = \"temp\"\n",
    "os.makedirs(temp_dir, exist_ok=True)\n",
    "\n",
    "port = config[\"port\"]\n",
    "user = config[\"user\"]\n",
    "pswd = config[\"pswd\"]\n",
    "neo4j_import_loc = Path(config[\"neo4j_import_loc\"])\n",
    "\n",
    "graph = Graph(\"bolt://localhost:\" + port, auth=(user, pswd))"
   ]
  },
  {
   "cell_type": "code",
   "execution_count": 16,
   "metadata": {},
   "outputs": [
    {
     "data": {
      "text/plain": [
       "[{'inputs1': ['InChI=1S/C4H2F6O2/c5-3(6,7)1-12-2(11)4(8,9)10/h1H2',\n",
       "   'InChI=1S/C5H5N.ClH/c1-2-4-6-5-3-1;/h1-5H;1H/p+1',\n",
       "   'InChI=1S/CO2/c2-1-3',\n",
       "   'InChI=1S/C2H3F3O/c3-2(4,5)1-6/h6H,1H2',\n",
       "   'InChI=1S/C4F6O3/c5-3(6,7)1(11)13-2(12)4(8,9)10'],\n",
       "  'r1.reactionId': 'ord-571db4c759b54fbcba683499835041c0',\n",
       "  'outputs1': ['InChI=1S/C5H5N.C2HF3O2/c1-2-4-6-5-3-1;3-2(4,5)1(6)7/h1-5H;(H,6,7)',\n",
       "   'InChI=1S/ClH/h1H'],\n",
       "  'inputs2': ['InChI=1S/C25H21ClN4O3/c1-14-10-11-19(12-15(14)2)30-25(33)22(16(3)29-30)28-27-21-9-5-8-20(23(21)31)17-6-4-7-18(13-17)24(26)32/h4-13,27,31H,1-3H3/b28-22-',\n",
       "   'InChI=1S/C2H6O/c1-2-3/h3H,2H2,1H3',\n",
       "   'InChI=1S/C5H9NO.H3N/c1-6-4-2-3-5(6)7;/h2-4H2,1H3;1H3',\n",
       "   'InChI=1S/ClH/h1H'],\n",
       "  'r2.reactionId': 'ord-956856757f7142f283df6730c7a6a802',\n",
       "  'outputs2': ['InChI=1S/C25H23N5O3/c1-14-10-11-19(12-15(14)2)30-25(33)22(16(3)29-30)28-27-21-9-5-8-20(23(21)31)17-6-4-7-18(13-17)24(26)32/h4-13,27,31H,1-3H3,(H2,26,32)',\n",
       "   'InChI=1S/C2H6O/c1-2-3/h3H,2H2,1H3']}]"
      ]
     },
     "execution_count": 16,
     "metadata": {},
     "output_type": "execute_result"
    }
   ],
   "source": [
    "graph.run(\n",
    "    \"\"\"\n",
    "        MATCH (co2:Compound {inChI: \"InChI=1S/CO2/c2-1-3\"})\n",
    "        MATCH (ethanol:Compound {inChI: \"InChI=1S/C2H6O/c1-2-3/h3H,2H2,1H3\"})\n",
    "        MATCH (co2)-[:INPUT {role: REACTANT}]->(r1)-[:OUTPUT]->(n:Compound)-[:INPUT {role: REACTANT}]->(r2)-[:OUTPUT]->(ethanol)\n",
    "        CALL {\n",
    "            WITH r1\n",
    "            MATCH (r1)<-[:INPUT]-(input1:Compound)\n",
    "            RETURN collect(input1.inChI) AS inputs1\n",
    "        }\n",
    "        CALL {\n",
    "            WITH r1\n",
    "            MATCH (r1)-[:OUTPUT]->(output1:Compound)\n",
    "            RETURN collect(output1.inChI) AS outputs1\n",
    "        }\n",
    "        CALL {\n",
    "            WITH r2\n",
    "            MATCH (r2)<-[:INPUT]-(input1:Compound)\n",
    "            RETURN collect(input1.inChI) AS inputs2\n",
    "        }\n",
    "        CALL {\n",
    "            WITH r2\n",
    "            MATCH (r2)-[:OUTPUT]->(output1:Compound)\n",
    "            RETURN collect(output1.inChI) AS outputs2\n",
    "        }\n",
    "        RETURN inputs1, r1.reactionId, outputs1, inputs2, r2.reactionId, outputs2 limit 1\n",
    "    \"\"\"\n",
    ").data()"
   ]
  },
  {
   "cell_type": "code",
   "execution_count": null,
   "metadata": {},
   "outputs": [],
   "source": []
  }
 ],
 "metadata": {
  "kernelspec": {
   "display_name": "chem",
   "language": "python",
   "name": "python3"
  },
  "language_info": {
   "codemirror_mode": {
    "name": "ipython",
    "version": 3
   },
   "file_extension": ".py",
   "mimetype": "text/x-python",
   "name": "python",
   "nbconvert_exporter": "python",
   "pygments_lexer": "ipython3",
   "version": "3.12.3"
  }
 },
 "nbformat": 4,
 "nbformat_minor": 2
}
