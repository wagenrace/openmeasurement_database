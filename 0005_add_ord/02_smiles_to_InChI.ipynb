{
 "cells": [
  {
   "cell_type": "code",
   "execution_count": null,
   "metadata": {},
   "outputs": [],
   "source": [
    "import json\n",
    "import os\n",
    "from pathlib import Path\n",
    "\n",
    "from ord_schema.message_helpers import load_message\n",
    "from ord_schema.proto import dataset_pb2\n",
    "from ord_schema.proto.reaction_pb2 import CompoundIdentifier\n",
    "from rdkit import Chem\n",
    "from tqdm import tqdm\n",
    "\n",
    "temp_dir = \"temp\"\n",
    "os.makedirs(temp_dir, exist_ok=True)\n",
    "\n",
    "data_path = Path(\"ord-data\") / \"data\"\n",
    "temp_folder = Path(\"temp\")\n",
    "temp_folder.mkdir(exist_ok=True)"
   ]
  },
  {
   "cell_type": "code",
   "execution_count": null,
   "metadata": {},
   "outputs": [],
   "source": [
    "def check_component(component):\n",
    "    inchi, smiles = get_component_identifiers(component)\n",
    "\n",
    "    if inchi is None or smiles is None:\n",
    "        # Cannot compare SMILES to InChI\n",
    "        return None\n",
    "\n",
    "    inchi_from_smiles = get_inchi_from_smiles(component)\n",
    "\n",
    "    if inchi == inchi_from_smiles:\n",
    "        return True\n",
    "    else:\n",
    "        return False\n",
    "\n",
    "\n",
    "def get_inchi_from_smiles(component):\n",
    "    _, smiles = get_component_identifiers(component)\n",
    "    chem = Chem.MolFromSmiles(smiles)\n",
    "    inchi = Chem.MolToInchi(chem)\n",
    "    return inchi\n",
    "\n",
    "\n",
    "def get_component_summary(component):\n",
    "    inchi, smiles = get_component_identifiers(component)\n",
    "    inchi_from_smiles = get_inchi_from_smiles(component)\n",
    "    return {f\"InChI\": inchi, \"SMILES\": smiles, \"InChI from SMILES\": inchi_from_smiles}\n",
    "\n",
    "\n",
    "def get_component_identifiers(component):\n",
    "    inchi = None\n",
    "    smiles = None\n",
    "    for identifier in component.identifiers:\n",
    "        if identifier.type == CompoundIdentifier.INCHI:\n",
    "            inchi = identifier.value\n",
    "        if identifier.type == CompoundIdentifier.SMILES:\n",
    "            smiles = identifier.value\n",
    "    return inchi, smiles"
   ]
  },
  {
   "cell_type": "code",
   "execution_count": null,
   "metadata": {},
   "outputs": [],
   "source": [
    "num_correct_components = 0\n",
    "num_incorrect_components = 0\n",
    "all_incoming_components = []\n",
    "\n",
    "all_gz_paths = [i for i in data_path.glob(\"*/*.pb.gz\")]\n",
    "for gz_path in tqdm(all_gz_paths):\n",
    "    json_name = gz_path.name.replace(\".pb.gz\", \".json\")\n",
    "    dataset = load_message(\n",
    "        str(gz_path),\n",
    "        dataset_pb2.Dataset,\n",
    "    )\n",
    "\n",
    "    # take one reaction message from the dataset for example\n",
    "    for reaction in dataset.reactions:\n",
    "        # Reaction ID is required\n",
    "        reaction_id = reaction.reaction_id\n",
    "\n",
    "        # Inputs are required\n",
    "        inputs = reaction.inputs\n",
    "\n",
    "        # Identifiers need to have type InChI\n",
    "        for input_state in inputs.keys():\n",
    "            components = inputs[input_state].components\n",
    "            for component in components:\n",
    "                result = check_component(component)\n",
    "                if result is None:\n",
    "                    # Cannot compare SMILES to InChI\n",
    "                    continue\n",
    "\n",
    "                if result:\n",
    "                    num_correct_components += 1\n",
    "                else:\n",
    "                    num_incorrect_components += 1\n",
    "                    # all_incoming_components.append(get_component_summary(component))"
   ]
  },
  {
   "cell_type": "code",
   "execution_count": null,
   "metadata": {},
   "outputs": [],
   "source": [
    "with open(temp_folder / \"incorrect_components.json\", \"w\") as f:\n",
    "    json.dump(all_incoming_components, f, indent=2)"
   ]
  },
  {
   "cell_type": "code",
   "execution_count": null,
   "metadata": {},
   "outputs": [],
   "source": [
    "print(f\"correct components: {num_correct_components}\")\n",
    "print(f\"incorrect components: {num_incorrect_components}\")"
   ]
  }
 ],
 "metadata": {
  "kernelspec": {
   "display_name": "chem",
   "language": "python",
   "name": "python3"
  },
  "language_info": {
   "codemirror_mode": {
    "name": "ipython",
    "version": 3
   },
   "file_extension": ".py",
   "mimetype": "text/x-python",
   "name": "python",
   "nbconvert_exporter": "python",
   "pygments_lexer": "ipython3",
   "version": "3.12.3"
  }
 },
 "nbformat": 4,
 "nbformat_minor": 2
}
